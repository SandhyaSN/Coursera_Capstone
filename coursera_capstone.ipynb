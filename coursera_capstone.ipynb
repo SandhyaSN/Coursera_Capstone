{
    "nbformat_minor": 1, 
    "metadata": {
        "language_info": {
            "nbconvert_exporter": "python", 
            "codemirror_mode": {
                "name": "ipython", 
                "version": 3
            }, 
            "pygments_lexer": "ipython3", 
            "name": "python", 
            "file_extension": ".py", 
            "version": "3.5.4", 
            "mimetype": "text/x-python"
        }, 
        "kernelspec": {
            "language": "python3", 
            "name": "python3", 
            "display_name": "Python 3.5 with Spark"
        }
    }, 
    "nbformat": 4, 
    "cells": [
        {
            "source": "This is a markdown cell and this code is mainly for coursera capstone project", 
            "metadata": {
                "collapsed": true
            }, 
            "cell_type": "markdown"
        }, 
        {
            "execution_count": 1, 
            "metadata": {}, 
            "source": "import pandas as pd\nimport numpy as np\nprint('Hello project coursera capstone')", 
            "outputs": [
                {
                    "name": "stdout", 
                    "output_type": "stream", 
                    "text": "Waiting for a Spark session to start...\nSpark Initialization Done! ApplicationId = app-20181108003959-0000\nHello project coursera capstone\n"
                }
            ], 
            "cell_type": "code"
        }, 
        {
            "execution_count": null, 
            "metadata": {}, 
            "source": "", 
            "outputs": [], 
            "cell_type": "code"
        }
    ]
}